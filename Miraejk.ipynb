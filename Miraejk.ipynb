{
  "nbformat": 4,
  "nbformat_minor": 0,
  "metadata": {
    "colab": {
      "provenance": [],
      "authorship_tag": "ABX9TyMSBn4HjH8MfGdIDpR9jzGF",
      "include_colab_link": true
    },
    "kernelspec": {
      "name": "python3",
      "display_name": "Python 3"
    },
    "language_info": {
      "name": "python"
    }
  },
  "cells": [
    {
      "cell_type": "markdown",
      "metadata": {
        "id": "view-in-github",
        "colab_type": "text"
      },
      "source": [
        "<a href=\"https://colab.research.google.com/github/javeria-kamran/project_06/blob/master/Miraejk.ipynb\" target=\"_parent\"><img src=\"https://colab.research.google.com/assets/colab-badge.svg\" alt=\"Open In Colab\"/></a>"
      ]
    },
    {
      "cell_type": "markdown",
      "source": [
        "# **Assignment-06**"
      ],
      "metadata": {
        "id": "dD5QR2vTd-rB"
      }
    },
    {
      "cell_type": "markdown",
      "source": [
        "<h2>1. Using self</h2>"
      ],
      "metadata": {
        "id": "559yZnKRebcK"
      }
    },
    {
      "cell_type": "code",
      "source": [
        "class Student:\n",
        "    def __init__(self, name, marks):\n",
        "        self.name = name       # using self to refer to the instance variable\n",
        "        self.marks = marks\n",
        "\n",
        "    def display(self):\n",
        "        print(f\"Name: {self.name}\")\n",
        "        print(f\"Marks: {self.marks}\")\n",
        "\n",
        "# Example usage\n",
        "student1 = Student(\"Alice\", 92)\n",
        "student1.display()\n"
      ],
      "metadata": {
        "id": "ig2hDW3feNDR"
      },
      "execution_count": null,
      "outputs": []
    },
    {
      "cell_type": "markdown",
      "source": [
        "<h2>2. Using cls</h2>"
      ],
      "metadata": {
        "id": "LVm8Md7xel2g"
      }
    },
    {
      "cell_type": "code",
      "source": [
        "class Counter:\n",
        "    count = 0  # Class variable to keep track of number of objects\n",
        "\n",
        "    def __init__(self):\n",
        "        Counter.count += 1  # Increment the count whenever an object is created\n",
        "\n",
        "    @classmethod\n",
        "    def show_count(cls):\n",
        "        print(f\"Total objects created: {cls.count}\")\n",
        "\n",
        "# Example usage:\n",
        "c1 = Counter()\n",
        "c2 = Counter()\n",
        "c3 = Counter()\n",
        "\n",
        "Counter.show_count()  # Output: Total objects created: 3\n"
      ],
      "metadata": {
        "id": "3hJMCbqQesJ4"
      },
      "execution_count": null,
      "outputs": []
    },
    {
      "cell_type": "markdown",
      "source": [
        "<h2>3. Public Variables and Methods</h2>"
      ],
      "metadata": {
        "id": "c4NT01dAezd4"
      }
    },
    {
      "cell_type": "code",
      "source": [
        "class Car:\n",
        "    def __init__(self, brand):\n",
        "        self.brand = brand  # Public variable\n",
        "\n",
        "    def start(self):\n",
        "        print(f\"{self.brand} car is starting...\")  # Public method\n",
        "\n",
        "# Instantiate the class\n",
        "my_car = Car(\"Porsche 911\")\n",
        "\n",
        "# Access public variable\n",
        "print(\"Car brand:\", my_car.brand)\n",
        "\n",
        "# Access public method\n",
        "my_car.start()\n"
      ],
      "metadata": {
        "colab": {
          "base_uri": "https://localhost:8080/"
        },
        "id": "DMFm6j8ae9jn",
        "outputId": "0f88dc70-d17d-486a-9849-fb0c7cb26ec0"
      },
      "execution_count": 1,
      "outputs": [
        {
          "output_type": "stream",
          "name": "stdout",
          "text": [
            "Car brand: Porsche 911\n",
            "Porsche 911 car is starting...\n"
          ]
        }
      ]
    },
    {
      "cell_type": "markdown",
      "source": [
        "<h2>4. Class Variables and Class Methods</h2>"
      ],
      "metadata": {
        "id": "FhVJtuw2fONn"
      }
    },
    {
      "cell_type": "code",
      "source": [
        "class Bank:\n",
        "    bank_name = \"Default Bank\"  # Class variable\n",
        "\n",
        "    def __init__(self, account_holder):\n",
        "        self.account_holder = account_holder\n",
        "\n",
        "    @classmethod\n",
        "    def change_bank_name(cls, name):\n",
        "        cls.bank_name = name  # Changing class variable using class method\n",
        "\n",
        "    def display(self):\n",
        "        print(f\"Account Holder: {self.account_holder}, Bank: {Bank.bank_name}\")\n",
        "\n",
        "# Creating instances\n",
        "user1 = Bank(\"Alice\")\n",
        "user2 = Bank(\"Bob\")\n",
        "\n",
        "# Display before changing bank name\n",
        "user1.display()\n",
        "user2.display()\n",
        "\n",
        "# Change the bank name using class method\n",
        "Bank.change_bank_name(\"Trustworthy Bank\")\n",
        "\n",
        "# Display after changing bank name\n",
        "user1.display()\n",
        "user2.display()\n"
      ],
      "metadata": {
        "id": "D6qw6LB0fVRt"
      },
      "execution_count": null,
      "outputs": []
    },
    {
      "cell_type": "markdown",
      "source": [
        "<h2>5. Static Variables and Static Methods</h2>"
      ],
      "metadata": {
        "id": "ivEoh1VlfiEG"
      }
    },
    {
      "cell_type": "code",
      "source": [
        "class MathUtils:\n",
        "    @staticmethod\n",
        "    def add(a, b):\n",
        "        return a + b\n",
        "\n",
        "# Using the static method\n",
        "result = MathUtils.add(5, 7)\n",
        "print(\"Sum:\", result)\n"
      ],
      "metadata": {
        "id": "bJZzdQmvfoUM"
      },
      "execution_count": null,
      "outputs": []
    },
    {
      "cell_type": "markdown",
      "source": [
        "<h2>6. Constructors and Destructors</h2>"
      ],
      "metadata": {
        "id": "SDrwVYH2fuMq"
      }
    },
    {
      "cell_type": "code",
      "source": [
        "class Logger:\n",
        "    def __init__(self):\n",
        "        print(\"Logger object created.\")\n",
        "\n",
        "    def __del__(self):\n",
        "        print(\"Logger object destroyed.\")\n",
        "\n",
        "# Create and delete the object\n",
        "log = Logger()\n",
        "\n",
        "# Manually delete the object to trigger the destructor\n",
        "del log\n"
      ],
      "metadata": {
        "id": "29dTXoO5fz5p"
      },
      "execution_count": null,
      "outputs": []
    },
    {
      "cell_type": "markdown",
      "source": [
        "<h2>7. Access Modifiers: Public, Private, and Protected</h2>"
      ],
      "metadata": {
        "id": "cPaYBvrff6Hv"
      }
    },
    {
      "cell_type": "code",
      "source": [
        "class Employee:\n",
        "    def __init__(self, name, salary, ssn):\n",
        "        self.name = name          # Public variable\n",
        "        self._salary = salary     # Protected variable (convention)\n",
        "        self.__ssn = ssn          # Private variable (name mangled)\n",
        "\n",
        "# Create an instance of Employee\n",
        "emp = Employee(\"Alice\", 70000, \"123-45-6789\")\n",
        "\n",
        "# Accessing variables\n",
        "print(\"Public:\", emp.name)       # ✅ Works\n",
        "\n",
        "print(\"Protected:\", emp._salary) # ✅ Works, but not recommended outside the class\n",
        "\n",
        "try:\n",
        "    print(\"Private:\", emp.__ssn) # ❌ Raises AttributeError\n",
        "except AttributeError as e:\n",
        "    print(\"Private:\", e)\n",
        "\n",
        "# Access private variable using name mangling\n",
        "print(\"Private (via name mangling):\", emp._Employee__ssn)  # ✅ Works (not recommended)\n"
      ],
      "metadata": {
        "id": "rDYJe_Pgf_y8"
      },
      "execution_count": null,
      "outputs": []
    },
    {
      "cell_type": "markdown",
      "source": [
        "<h2>8. The super() Function</h2>"
      ],
      "metadata": {
        "id": "A8eHLOpigHVP"
      }
    },
    {
      "cell_type": "code",
      "source": [
        "# Base class\n",
        "class Person:\n",
        "    def __init__(self, name):\n",
        "        self.name = name\n",
        "\n",
        "# Derived class\n",
        "class Teacher(Person):\n",
        "    def __init__(self, name, subject):\n",
        "        super().__init__(name)   # Call the base class constructor\n",
        "        self.subject = subject\n",
        "\n",
        "    def display(self):\n",
        "        print(f\"Name: {self.name}, Subject: {self.subject}\")\n",
        "\n",
        "# Create an instance of Teacher\n",
        "t = Teacher(\"Mr. Smith\", \"Mathematics\")\n",
        "t.display()\n"
      ],
      "metadata": {
        "id": "BoYn_U1OgODf"
      },
      "execution_count": null,
      "outputs": []
    },
    {
      "cell_type": "markdown",
      "source": [
        "<h2>9. Abstract Classes and Methods</h2>"
      ],
      "metadata": {
        "id": "T0lYOqx2gULR"
      }
    },
    {
      "cell_type": "code",
      "source": [
        "from abc import ABC, abstractmethod\n",
        "\n",
        "# Abstract Base Class\n",
        "class Shape(ABC):\n",
        "    @abstractmethod\n",
        "    def area(self):\n",
        "        pass\n",
        "\n",
        "# Derived class\n",
        "class Rectangle(Shape):\n",
        "    def __init__(self, width, height):\n",
        "        self.width = width\n",
        "        self.height = height\n",
        "\n",
        "    def area(self):\n",
        "        return self.width * self.height\n",
        "\n",
        "# Example usage\n",
        "r = Rectangle(5, 3)\n",
        "print(\"Area of Rectangle:\", r.area())\n"
      ],
      "metadata": {
        "id": "DBTuXT39gaN4"
      },
      "execution_count": null,
      "outputs": []
    },
    {
      "cell_type": "markdown",
      "source": [
        "<h2>10. Instance Methods</h2>"
      ],
      "metadata": {
        "id": "NteJnp5mg9a-"
      }
    },
    {
      "cell_type": "code",
      "source": [
        "class Dog:\n",
        "    def __init__(self, name, breed):\n",
        "        self.name = name\n",
        "        self.breed = breed\n",
        "\n",
        "    def bark(self):\n",
        "        print(f\"{self.name} says: Woof!\")\n",
        "\n",
        "# Example usage\n",
        "d1 = Dog(\"Buddy\", \"Golden Retriever\")\n",
        "d1.bark()\n"
      ],
      "metadata": {
        "id": "C5xy5MVuiyN6"
      },
      "execution_count": null,
      "outputs": []
    },
    {
      "cell_type": "markdown",
      "source": [
        "<h2>11. Class Methods</h2>"
      ],
      "metadata": {
        "id": "znES3I88hBqw"
      }
    },
    {
      "cell_type": "code",
      "source": [
        "class Book:\n",
        "    total_books = 0  # Class variable to track the number of books\n",
        "\n",
        "    @classmethod\n",
        "    def increment_book_count(cls):\n",
        "        cls.total_books += 1\n",
        "\n",
        "    def __init__(self, title, author):\n",
        "        self.title = title\n",
        "        self.author = author\n",
        "        Book.increment_book_count()  # Increment the count when a new book is added\n",
        "\n",
        "    def display_info(self):\n",
        "        print(f\"Title: {self.title}, Author: {self.author}\")\n",
        "\n",
        "# Example usage\n",
        "book1 = Book(\"1984\", \"George Orwell\")\n",
        "book2 = Book(\"Brave New World\", \"Aldous Huxley\")\n",
        "book3 = Book(\"To Kill a Mockingbird\", \"Harper Lee\")\n",
        "\n",
        "print(f\"Total books in library: {Book.total_books}\")\n"
      ],
      "metadata": {
        "id": "8_zhTnCLjDLw"
      },
      "execution_count": null,
      "outputs": []
    },
    {
      "cell_type": "markdown",
      "source": [
        "<h2>12. Static Methods</h2>"
      ],
      "metadata": {
        "id": "I31DrQkOhRdS"
      }
    },
    {
      "cell_type": "code",
      "source": [
        "class Book:\n",
        "    total_books = 0  # Class variable to track the number of books\n",
        "\n",
        "    @classmethod\n",
        "    def increment_book_count(cls):\n",
        "        cls.total_books += 1\n",
        "\n",
        "    def __init__(self, title, author):\n",
        "        self.title = title\n",
        "        self.author = author\n",
        "        Book.increment_book_count()  # Increment the count when a new book is added\n",
        "\n",
        "    def display_info(self):\n",
        "        print(f\"Title: {self.title}, Author: {self.author}\")\n",
        "\n",
        "# Example usage\n",
        "book1 = Book(\"1984\", \"George Orwell\")\n",
        "book2 = Book(\"Brave New World\", \"Aldous Huxley\")\n",
        "book3 = Book(\"To Kill a Mockingbird\", \"Harper Lee\")\n",
        "\n",
        "print(f\"Total books in library: {Book.total_books}\")\n"
      ],
      "metadata": {
        "id": "AF4SxfKXjHhm"
      },
      "execution_count": null,
      "outputs": []
    },
    {
      "cell_type": "markdown",
      "source": [
        "<h2>13. Composition</h2>"
      ],
      "metadata": {
        "id": "NwKm-D8LhWXp"
      }
    },
    {
      "cell_type": "code",
      "source": [
        "class Engine:\n",
        "    def __init__(self, engine_type):\n",
        "        self.engine_type = engine_type\n",
        "\n",
        "    def start_engine(self):\n",
        "        print(f\"{self.engine_type} engine started!\")\n",
        "\n",
        "class Car:\n",
        "    def __init__(self, brand, engine):\n",
        "        self.brand = brand\n",
        "        self.engine = engine  # Composition: Car has an Engine\n",
        "\n",
        "    def start_car(self):\n",
        "        print(f\"Starting the {self.brand} car.\")\n",
        "        self.engine.start_engine()  # Accessing Engine's method via Car\n",
        "\n",
        "# Example usage\n",
        "engine1 = Engine(\"V8\")\n",
        "car1 = Car(\"Ford Mustang\", engine1)\n",
        "\n",
        "car1.start_car()  # Starts the car and engine\n",
        "\n"
      ],
      "metadata": {
        "id": "aCiN5bY8jTys"
      },
      "execution_count": null,
      "outputs": []
    },
    {
      "cell_type": "markdown",
      "source": [
        "<h2>14. Aggregation</h2>"
      ],
      "metadata": {
        "id": "IKAsb418hc-N"
      }
    },
    {
      "cell_type": "code",
      "source": [
        "class Employee:\n",
        "    def __init__(self, name, position):\n",
        "        self.name = name\n",
        "        self.position = position\n",
        "\n",
        "    def display_employee(self):\n",
        "        print(f\"Employee: {self.name}, Position: {self.position}\")\n",
        "\n",
        "class Department:\n",
        "    def __init__(self, department_name, employee):\n",
        "        self.department_name = department_name\n",
        "        self.employee = employee  # Aggregation: Department has a reference to Employee\n",
        "\n",
        "    def display_department_info(self):\n",
        "        print(f\"Department: {self.department_name}\")\n",
        "        self.employee.display_employee()  # Accessing Employee's method from Department\n",
        "\n",
        "# Example usage\n",
        "employee1 = Employee(\"Alice\", \"Software Engineer\")\n",
        "department1 = Department(\"Engineering\", employee1)\n",
        "\n",
        "department1.display_department_info()\n",
        "\n",
        "# Employee exists independently of the Department object\n",
        "employee2 = Employee(\"Bob\", \"HR Manager\")\n",
        "department2 = Department(\"Human Resources\", employee2)\n",
        "\n",
        "department2.display_department_info()\n"
      ],
      "metadata": {
        "id": "eFtkfUuDjbO2"
      },
      "execution_count": null,
      "outputs": []
    },
    {
      "cell_type": "markdown",
      "source": [
        "<h2>15. Method Resolution Order (MRO) and Diamond Inheritance</h2>"
      ],
      "metadata": {
        "id": "PmLIRXl5hi_Y"
      }
    },
    {
      "cell_type": "code",
      "source": [
        "class A:\n",
        "    def show(self):\n",
        "        print(\"Method of Class A\")\n",
        "\n",
        "class B(A):\n",
        "    def show(self):\n",
        "        print(\"Method of Class B\")\n",
        "\n",
        "class C(A):\n",
        "    def show(self):\n",
        "        print(\"Method of Class C\")\n",
        "\n",
        "class D(B, C):  # D inherits from both B and C\n",
        "    pass\n",
        "\n",
        "# Creating an object of D\n",
        "obj = D()\n",
        "obj.show()\n",
        "\n",
        "# Checking the MRO\n",
        "print(\"\\nMRO of class D:\", D.__mro__)\n"
      ],
      "metadata": {
        "id": "dq7m3O22jcSw"
      },
      "execution_count": null,
      "outputs": []
    },
    {
      "cell_type": "markdown",
      "source": [
        "<h2>16. Function Decorators</h2>"
      ],
      "metadata": {
        "id": "mTSS-zI7hpGC"
      }
    },
    {
      "cell_type": "code",
      "source": [
        "def log_function_call(func):\n",
        "    def wrapper(*args, **kwargs):\n",
        "        print(\"Function is being called\")\n",
        "        return func(*args, **kwargs)\n",
        "    return wrapper\n",
        "\n",
        "@log_function_call\n",
        "def say_hello():\n",
        "    print(\"Hello, World!\")\n",
        "\n",
        "\n",
        "say_hello()\n"
      ],
      "metadata": {
        "id": "14BBWRuoj3Pc"
      },
      "execution_count": null,
      "outputs": []
    },
    {
      "cell_type": "markdown",
      "source": [
        "<h2>17. Class Decorators</h2>"
      ],
      "metadata": {
        "id": "PdCcCT95husd"
      }
    },
    {
      "cell_type": "code",
      "source": [
        "def add_greeting(cls):\n",
        "    def greet(self):\n",
        "        return \"Hello from Decorator!\"\n",
        "    cls.greet = greet\n",
        "    return cls\n",
        "\n",
        "\n",
        "@add_greeting\n",
        "class Person:\n",
        "    def __init__(self, name):\n",
        "        self.name = name\n",
        "\n",
        "\n",
        "person = Person(\"Alice\")\n",
        "\n",
        "\n",
        "print(person.greet())\n"
      ],
      "metadata": {
        "id": "uHNmdwzOj_yH"
      },
      "execution_count": null,
      "outputs": []
    },
    {
      "cell_type": "markdown",
      "source": [
        "<h2>18. Property Decorators: @property, @setter, and @deleter</h2>"
      ],
      "metadata": {
        "id": "rrZvnjB5iZTp"
      }
    },
    {
      "cell_type": "code",
      "source": [
        "class Product:\n",
        "    def __init__(self, price):\n",
        "        self._price = price\n",
        "\n",
        "\n",
        "    @property\n",
        "    def price(self):\n",
        "        return self._price\n",
        "\n",
        "\n",
        "    @price.setter\n",
        "    def price(self, value):\n",
        "        if value < 0:\n",
        "            raise ValueError(\"Price cannot be negative\")\n",
        "        self._price = value\n",
        "\n",
        "\n",
        "    @price.deleter\n",
        "    def price(self):\n",
        "        print(\"Deleting price...\")\n",
        "        del self._price\n",
        "\n",
        "\n",
        "product = Product(100)\n",
        "\n",
        "\n",
        "print(f\"Initial price: {product.price}\")\n",
        "\n",
        "\n",
        "product.price = 150\n",
        "print(f\"Updated price: {product.price}\")\n",
        "\n",
        "\n",
        "try:\n",
        "    product.price = -50\n",
        "except ValueError as e:\n",
        "    print(e)\n",
        "\n",
        "\n",
        "del product.price\n",
        "\n",
        "\n",
        "try:\n",
        "    print(product.price)\n",
        "except AttributeError as e:\n",
        "    print(e)\n"
      ],
      "metadata": {
        "id": "Htds8OcDkK1i"
      },
      "execution_count": null,
      "outputs": []
    },
    {
      "cell_type": "markdown",
      "source": [
        "<h2>19. callable() and __call__()</h2>"
      ],
      "metadata": {
        "id": "GwfsFTv6ieiU"
      }
    },
    {
      "cell_type": "code",
      "source": [
        "class Multiplier:\n",
        "    def __init__(self, factor):\n",
        "        self.factor = factor\n",
        "\n",
        "    def __call__(self, number):\n",
        "        return self.factor * number\n",
        "\n",
        "\n",
        "multiplier = Multiplier(5)\n",
        "\n",
        "\n",
        "print(callable(multiplier))\n",
        "\n",
        "\n",
        "result = multiplier(10)\n",
        "print(f\"Result of calling the object: {result}\")\n"
      ],
      "metadata": {
        "id": "pUl-lBcKkTAz"
      },
      "execution_count": null,
      "outputs": []
    },
    {
      "cell_type": "markdown",
      "source": [
        "<h2>20. Creating a Custom Exception</h2>"
      ],
      "metadata": {
        "id": "2jW8ukHGimBw"
      }
    },
    {
      "cell_type": "code",
      "source": [
        "class InvalidAgeError(Exception):\n",
        "    pass\n",
        "\n",
        "\n",
        "def check_age(age):\n",
        "    if age < 18:\n",
        "        raise InvalidAgeError(\"Age must be 18 or older.\")\n",
        "    else:\n",
        "        print(\"Age is valid!\")\n",
        "\n",
        "try:\n",
        "\n",
        "    age = 15\n",
        "    check_age(age)\n",
        "except InvalidAgeError as e:\n",
        "    print(f\"Error: {e}\")\n"
      ],
      "metadata": {
        "id": "R1DZuQa9kaJ0"
      },
      "execution_count": null,
      "outputs": []
    },
    {
      "cell_type": "markdown",
      "source": [
        "<h2>21. Make a Custom Class Iterable</h2>"
      ],
      "metadata": {
        "id": "focrzOMzirpM"
      }
    },
    {
      "cell_type": "code",
      "source": [
        "class Countdown:\n",
        "    def __init__(self, start):\n",
        "        self.start = start\n",
        "        self.current = start\n",
        "\n",
        "    def __iter__(self):\n",
        "        return self\n",
        "\n",
        "    def __next__(self):\n",
        "        if self.current <= 0:\n",
        "            raise StopIteration\n",
        "        self.current -= 1\n",
        "        return self.current + 1\n",
        "\n",
        "\n",
        "countdown = Countdown(5)\n",
        "for number in countdown:\n",
        "    print(number)\n"
      ],
      "metadata": {
        "id": "SajFhr1CkldX"
      },
      "execution_count": null,
      "outputs": []
    }
  ]
}